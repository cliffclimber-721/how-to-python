{
 "cells": [
  {
   "cell_type": "markdown",
   "metadata": {},
   "source": [
    "find 함수에 대해 배워보자."
   ]
  },
  {
   "cell_type": "code",
   "execution_count": 1,
   "metadata": {},
   "outputs": [],
   "source": [
    "id = \"skywalker721\"\n",
    "pwd = \"0721777\""
   ]
  },
  {
   "cell_type": "markdown",
   "metadata": {},
   "source": [
    "위처럼 문자열을 주고 해당 문자를 찾도록 하는 것이 find 함수의 목적이다."
   ]
  },
  {
   "cell_type": "code",
   "execution_count": 4,
   "metadata": {},
   "outputs": [
    {
     "name": "stdout",
     "output_type": "stream",
     "text": [
      "0\n",
      "10\n",
      "1\n"
     ]
    }
   ],
   "source": [
    "print(id.find(\"s\"))\n",
    "print(id.find(\"2\"))\n",
    "print(pwd.find(\"7\"))"
   ]
  },
  {
   "cell_type": "markdown",
   "metadata": {},
   "source": [
    "pwd.find()를 보면 7이 여러 개 있는 것을 볼 수 있는데, 그 중에 맨 먼저 나오는 문자의 위치를 인덱스로 출력해준다."
   ]
  }
 ],
 "metadata": {
  "interpreter": {
   "hash": "b0fa6594d8f4cbf19f97940f81e996739fb7646882a419484c72d19e05852a7e"
  },
  "kernelspec": {
   "display_name": "Python 3.11.2 64-bit",
   "language": "python",
   "name": "python3"
  },
  "language_info": {
   "codemirror_mode": {
    "name": "ipython",
    "version": 3
   },
   "file_extension": ".py",
   "mimetype": "text/x-python",
   "name": "python",
   "nbconvert_exporter": "python",
   "pygments_lexer": "ipython3",
   "version": "3.11.2"
  },
  "orig_nbformat": 4
 },
 "nbformat": 4,
 "nbformat_minor": 2
}
