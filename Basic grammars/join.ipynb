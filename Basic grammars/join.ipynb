{
 "cells": [
  {
   "cell_type": "code",
   "execution_count": 5,
   "metadata": {},
   "outputs": [
    {
     "name": "stdout",
     "output_type": "stream",
     "text": [
      "포켓몬 디지몬 아리 동동\n"
     ]
    }
   ],
   "source": [
    "str_list = [\"포켓몬\", \"디지몬\", \"아리\", \"동동\"]\n",
    "print(' '.join(str_list))"
   ]
  },
  {
   "cell_type": "code",
   "execution_count": 10,
   "metadata": {},
   "outputs": [
    {
     "name": "stdout",
     "output_type": "stream",
     "text": [
      "0 포켓몬\n",
      "1 디지몬\n",
      "2 아리\n",
      "3 동동\n",
      "포켓몬 디지몬 아리 동동\n"
     ]
    }
   ],
   "source": [
    "string = ''\n",
    "str_list = [\"포켓몬\", \"디지몬\", \"아리\", \"동동\"]\n",
    "for i, j in enumerate(str_list):\n",
    "    print(i, j) # i는 숫자를 쭉 나타내주고 j는 리스트 안에 있는 것들은 순차대로 출력\n",
    "    if i == 0:\n",
    "        string += j\n",
    "    else:\n",
    "        string += ' ' + j\n",
    "\n",
    "print(string)"
   ]
  },
  {
   "cell_type": "code",
   "execution_count": 2,
   "metadata": {},
   "outputs": [
    {
     "name": "stdout",
     "output_type": "stream",
     "text": [
      "abc\n"
     ]
    }
   ],
   "source": [
    "print(''.join(['a', 'b', 'c']))"
   ]
  }
 ],
 "metadata": {
  "interpreter": {
   "hash": "b0fa6594d8f4cbf19f97940f81e996739fb7646882a419484c72d19e05852a7e"
  },
  "kernelspec": {
   "display_name": "Python 3.11.4 64-bit",
   "language": "python",
   "name": "python3"
  },
  "language_info": {
   "codemirror_mode": {
    "name": "ipython",
    "version": 3
   },
   "file_extension": ".py",
   "mimetype": "text/x-python",
   "name": "python",
   "nbconvert_exporter": "python",
   "pygments_lexer": "ipython3",
   "version": "3.11.4"
  },
  "orig_nbformat": 4
 },
 "nbformat": 4,
 "nbformat_minor": 2
}
