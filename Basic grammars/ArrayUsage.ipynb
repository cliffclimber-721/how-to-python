{
 "cells": [
  {
   "cell_type": "code",
   "execution_count": 57,
   "metadata": {},
   "outputs": [],
   "source": [
    "arr = [10, 3.5, \"python\", 100] # default array\n",
    "list = [1.0, 2.1, 3.1]"
   ]
  },
  {
   "cell_type": "markdown",
   "metadata": {},
   "source": [
    "To know how array works with Python, i'll give a default array see how it works."
   ]
  },
  {
   "cell_type": "code",
   "execution_count": 58,
   "metadata": {},
   "outputs": [
    {
     "name": "stdout",
     "output_type": "stream",
     "text": [
      "[10, 3.5, 'PYTHON', 100]\n",
      "[10, 3.5, 'python', 100]\n",
      "[10, 3.5, 'Python', 100]\n"
     ]
    }
   ],
   "source": [
    "arr[2] = arr[2].upper()\n",
    "print(arr)\n",
    "arr[2] = arr[2].lower()\n",
    "print(arr)\n",
    "arr[2] = arr[2].capitalize()\n",
    "print(arr)"
   ]
  },
  {
   "cell_type": "markdown",
   "metadata": {},
   "source": [
    "When you use \" .upper() \", all of the alphabets changes in big letters.\n",
    "When you use \" .lower() \", all of the alphabets changes in small letters.\n",
    "When you use \" .capitalize() \", only the first alphabet changes in big letter."
   ]
  },
  {
   "cell_type": "code",
   "execution_count": 59,
   "metadata": {},
   "outputs": [
    {
     "name": "stdout",
     "output_type": "stream",
     "text": [
      "[10, [1.0, 2.1, 3.1], 'Python', 100]\n"
     ]
    }
   ],
   "source": [
    "arr[1] = list\n",
    "print(arr)"
   ]
  },
  {
   "cell_type": "markdown",
   "metadata": {},
   "source": [
    "You can see the name \"list\" array has used. You can just put new array inside the array, but you can replace it into variable.\n",
    "\n",
    "So I made a \"list\" array to see it clear."
   ]
  },
  {
   "cell_type": "code",
   "execution_count": 60,
   "metadata": {},
   "outputs": [
    {
     "name": "stdout",
     "output_type": "stream",
     "text": [
      "list reversed :  [3.1, 2.1, 1.0]\n",
      "[10, [3.1, 2.1, 1.0], 'Python', 100]\n"
     ]
    }
   ],
   "source": [
    "list.reverse()\n",
    "print(\"list reversed : \", list)\n",
    "print(arr)"
   ]
  },
  {
   "cell_type": "markdown",
   "metadata": {},
   "source": [
    "\" .reverse() \" works when you reverse indexes inside the array.\n",
    "For example, I want to reverse the array 'list'. So \" print(list) \" is in the code."
   ]
  },
  {
   "cell_type": "code",
   "execution_count": 61,
   "metadata": {},
   "outputs": [
    {
     "name": "stdout",
     "output_type": "stream",
     "text": [
      "[3.5, 2.1, 1.0]\n",
      "[10, [3.5, 2.1, 1.0], 'Python', 100]\n"
     ]
    }
   ],
   "source": [
    "list[0] = 3.5\n",
    "print(list)\n",
    "print(arr)"
   ]
  },
  {
   "cell_type": "code",
   "execution_count": 62,
   "metadata": {},
   "outputs": [
    {
     "name": "stdout",
     "output_type": "stream",
     "text": [
      "arr:  [10, [3.5, 2.1, 1.0], 'Python', 100]\n"
     ]
    }
   ],
   "source": [
    "print(\"arr: \", arr)"
   ]
  },
  {
   "cell_type": "markdown",
   "metadata": {},
   "source": [
    "We can delete into 2 ways; \" .remove() \", \" del \".\n",
    "When you use \" .remove() \", you need index to delete. When you use \" del \", needs [] brackets and set values which location you want to delete."
   ]
  },
  {
   "cell_type": "code",
   "execution_count": 63,
   "metadata": {},
   "outputs": [
    {
     "name": "stdout",
     "output_type": "stream",
     "text": [
      "arr:  [10, [3.5, 2.1, 1.0]]\n"
     ]
    }
   ],
   "source": [
    "arr.remove('Python')\n",
    "arr.remove(100)\n",
    "print(\"arr: \", arr)"
   ]
  },
  {
   "cell_type": "markdown",
   "metadata": {},
   "source": [
    "\" .insert() \" uses when you want to put the specific index on specific array number. Example is below the code."
   ]
  },
  {
   "cell_type": "code",
   "execution_count": 64,
   "metadata": {},
   "outputs": [
    {
     "name": "stdout",
     "output_type": "stream",
     "text": [
      "[10, [3.5, 2.1, 1.0], 50]\n"
     ]
    }
   ],
   "source": [
    "arr.insert(2, 50) # 2 is specific array number, 50 is the specific index\n",
    "print(arr)"
   ]
  },
  {
   "cell_type": "markdown",
   "metadata": {},
   "source": [
    "\" .extend() \" has to be written in arrays. When you want to just put one index, you can use \" .append() \", or \".insert() \", but when you want to put indexes more than one, \" .extend() \" is appropriate to use."
   ]
  },
  {
   "cell_type": "code",
   "execution_count": 65,
   "metadata": {},
   "outputs": [
    {
     "name": "stdout",
     "output_type": "stream",
     "text": [
      "[10, [3.5, 2.1, 1.0], 50, 60, 70, 80]\n"
     ]
    }
   ],
   "source": [
    "ext = [60, 70, 80]\n",
    "arr.extend(ext)\n",
    "print(arr)"
   ]
  },
  {
   "cell_type": "markdown",
   "metadata": {},
   "source": [
    "\" .pop() \" uses when you want to remove it. This is different with \" .remove() \". \" .pop() \" follows the rules, 'LIFO'. So the last index removes in default. But when you specify the array number which you want to pop out, that works too."
   ]
  },
  {
   "cell_type": "code",
   "execution_count": 66,
   "metadata": {},
   "outputs": [
    {
     "name": "stdout",
     "output_type": "stream",
     "text": [
      "마지막 원소 : 80\n",
      "[10, [3.5, 2.1, 1.0], 50, 60, 70]\n"
     ]
    }
   ],
   "source": [
    "num1 = arr.pop()\n",
    "print(\"마지막 원소 :\", num1)\n",
    "print(arr)"
   ]
  },
  {
   "cell_type": "code",
   "execution_count": 67,
   "metadata": {},
   "outputs": [
    {
     "name": "stdout",
     "output_type": "stream",
     "text": [
      "인덱스 1 원소 : [3.5, 2.1, 1.0]\n",
      "[10, 50, 60, 70]\n"
     ]
    }
   ],
   "source": [
    "num2 = arr.pop(1)\n",
    "print(\"인덱스 1 원소 :\", num2)\n",
    "print(arr)"
   ]
  }
 ],
 "metadata": {
  "interpreter": {
   "hash": "31f2aee4e71d21fbe5cf8b01ff0e069b9275f58929596ceb00d14d90e3e16cd6"
  },
  "kernelspec": {
   "display_name": "Python 3.8.9 64-bit",
   "language": "python",
   "name": "python3"
  },
  "language_info": {
   "codemirror_mode": {
    "name": "ipython",
    "version": 3
   },
   "file_extension": ".py",
   "mimetype": "text/x-python",
   "name": "python",
   "nbconvert_exporter": "python",
   "pygments_lexer": "ipython3",
   "version": "3.8.9"
  },
  "orig_nbformat": 4
 },
 "nbformat": 4,
 "nbformat_minor": 2
}
