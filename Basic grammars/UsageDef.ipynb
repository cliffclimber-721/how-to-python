{
 "cells": [
  {
   "cell_type": "markdown",
   "metadata": {},
   "source": [
    "\" def \" uses when you want to define. We use this because of continuous contents.\n",
    "This is the simple sample of using \" def \"."
   ]
  },
  {
   "cell_type": "code",
   "execution_count": 1,
   "metadata": {},
   "outputs": [],
   "source": [
    "def add(a, b):\n",
    "    return a + b"
   ]
  },
  {
   "cell_type": "markdown",
   "metadata": {},
   "source": [
    "I made a function called 'add'. This function has been made because adding performance will be repetitive.\n",
    "' a ' and ' b ' is just a default, you can decide any variable ; also sample is at the below."
   ]
  },
  {
   "cell_type": "code",
   "execution_count": 2,
   "metadata": {},
   "outputs": [
    {
     "name": "stdout",
     "output_type": "stream",
     "text": [
      "3\n"
     ]
    }
   ],
   "source": [
    "num1 = 1\n",
    "num2 = 2\n",
    "sums = add(num1, num2)\n",
    "print(sums)"
   ]
  },
  {
   "cell_type": "markdown",
   "metadata": {},
   "source": [
    "When you don't know how many inputs you put, (*args) is the main point you use."
   ]
  },
  {
   "cell_type": "code",
   "execution_count": 3,
   "metadata": {},
   "outputs": [],
   "source": [
    "def add_more(*args):\n",
    "    result = 0\n",
    "    for i in args:\n",
    "        result += i\n",
    "    return result"
   ]
  },
  {
   "cell_type": "code",
   "execution_count": 4,
   "metadata": {},
   "outputs": [
    {
     "name": "stdout",
     "output_type": "stream",
     "text": [
      "6\n"
     ]
    }
   ],
   "source": [
    "result = add_more(1, 2, 3)\n",
    "print(result)"
   ]
  },
  {
   "cell_type": "markdown",
   "metadata": {},
   "source": [
    "You can put other grammars in \" def \"."
   ]
  },
  {
   "cell_type": "code",
   "execution_count": 5,
   "metadata": {},
   "outputs": [],
   "source": [
    "def add_mul(choice, *args):\n",
    "    if choice == \"add\":\n",
    "        result = 0\n",
    "        for i in args:\n",
    "            result = result + i\n",
    "    elif choice == \"mul\":\n",
    "        result = 1\n",
    "        for i in args:\n",
    "            result = result * i\n",
    "    return result"
   ]
  },
  {
   "cell_type": "code",
   "execution_count": 7,
   "metadata": {},
   "outputs": [
    {
     "name": "stdout",
     "output_type": "stream",
     "text": [
      "10\n",
      "24\n"
     ]
    }
   ],
   "source": [
    "result = add_mul(\"add\", 1, 2, 3, 4)\n",
    "print(result)\n",
    "result = add_mul(\"mul\", 1, 2, 3, 4)\n",
    "print(result)"
   ]
  },
  {
   "cell_type": "markdown",
   "metadata": {},
   "source": [
    "About \" class \", this is more larger scale than \" def \"."
   ]
  },
  {
   "cell_type": "code",
   "execution_count": 1,
   "metadata": {},
   "outputs": [],
   "source": [
    "class setClass:\n",
    "    pass # pass is just a grammar;because it doesn't uses nothing temporarily"
   ]
  },
  {
   "cell_type": "markdown",
   "metadata": {},
   "source": [
    "We can set variables using \" self \". At the below, you can see \" a \" for the parameter;to show using class. And \" a \" stands for \" self \". First parameter just sends the value automatically."
   ]
  },
  {
   "cell_type": "code",
   "execution_count": 4,
   "metadata": {},
   "outputs": [
    {
     "name": "stdout",
     "output_type": "stream",
     "text": [
      "3\n",
      "8\n"
     ]
    }
   ],
   "source": [
    "class Calculate:\n",
    "    def setNums(self, first, second): #self => a, first => 3, second => 8\n",
    "        self.first = first\n",
    "        self.second = second\n",
    "\n",
    "a = Calculate()\n",
    "a.setNums(3, 8)\n",
    "print(a.first)\n",
    "print(a.second)"
   ]
  },
  {
   "cell_type": "markdown",
   "metadata": {},
   "source": [
    "And when I make the another parameter \" b \"."
   ]
  },
  {
   "cell_type": "code",
   "execution_count": 5,
   "metadata": {},
   "outputs": [
    {
     "name": "stdout",
     "output_type": "stream",
     "text": [
      "4\n",
      "10\n"
     ]
    }
   ],
   "source": [
    "b = Calculate()\n",
    "b.setNums(4, 10)\n",
    "print(b.first)\n",
    "print(b.second)"
   ]
  },
  {
   "cell_type": "markdown",
   "metadata": {},
   "source": [
    "I'll make a new class for the calculation of addition, also using \" def \"."
   ]
  },
  {
   "cell_type": "code",
   "execution_count": 11,
   "metadata": {},
   "outputs": [
    {
     "name": "stdout",
     "output_type": "stream",
     "text": [
      "add:  5\n",
      "subtract:  -3\n",
      "multiply:  4\n",
      "divide:  0.25\n",
      "remainder:  1\n",
      "1\n",
      "4\n"
     ]
    }
   ],
   "source": [
    "class forCalculate():\n",
    "    def setNumber(self, one, two):\n",
    "        self.one = one\n",
    "        self.two = two\n",
    "    def addFor(self):\n",
    "        result = self.one + self.two\n",
    "        #result = one + two => this cannot be used because \" one \" and \" two \" is not defined \n",
    "        return result\n",
    "    def subFor(self):\n",
    "        result = self.one - self.two\n",
    "        return result\n",
    "    def mulFor(self):\n",
    "        result = self.one * self.two\n",
    "        return result\n",
    "    def divFor(self):\n",
    "        result = self.one / self.two\n",
    "        return result\n",
    "    def remainFor(self):\n",
    "        result = self.one % self.two\n",
    "        return result\n",
    "\n",
    "cal = forCalculate()\n",
    "cal.setNumber(1, 4)\n",
    "print(\"add: \", cal.addFor())\n",
    "print(\"subtract: \", cal.subFor())\n",
    "print(\"multiply: \", cal.mulFor())\n",
    "print(\"divide: \", cal.divFor())\n",
    "print(\"remainder: \", cal.remainFor())\n",
    "print(cal.one)\n",
    "print(cal.two)"
   ]
  },
  {
   "cell_type": "markdown",
   "metadata": {},
   "source": [
    "Constructor is important using Python. You can see ' setNumber() ' that I defined, When I don't write ' setNumber() ' for the first input, it doesn't work."
   ]
  },
  {
   "cell_type": "code",
   "execution_count": 12,
   "metadata": {},
   "outputs": [
    {
     "ename": "AttributeError",
     "evalue": "'forCalculate' object has no attribute 'one'",
     "output_type": "error",
     "traceback": [
      "\u001b[0;31m---------------------------------------------------------------------------\u001b[0m",
      "\u001b[0;31mAttributeError\u001b[0m                            Traceback (most recent call last)",
      "Input \u001b[0;32mIn [12]\u001b[0m, in \u001b[0;36m<module>\u001b[0;34m\u001b[0m\n\u001b[1;32m      1\u001b[0m cal \u001b[38;5;241m=\u001b[39m forCalculate()\n\u001b[0;32m----> 2\u001b[0m \u001b[43mcal\u001b[49m\u001b[38;5;241;43m.\u001b[39;49m\u001b[43maddFor\u001b[49m\u001b[43m(\u001b[49m\u001b[43m)\u001b[49m\n",
      "Input \u001b[0;32mIn [11]\u001b[0m, in \u001b[0;36mforCalculate.addFor\u001b[0;34m(self)\u001b[0m\n\u001b[1;32m      5\u001b[0m \u001b[38;5;28;01mdef\u001b[39;00m \u001b[38;5;21maddFor\u001b[39m(\u001b[38;5;28mself\u001b[39m):\n\u001b[0;32m----> 6\u001b[0m     result \u001b[38;5;241m=\u001b[39m \u001b[38;5;28;43mself\u001b[39;49m\u001b[38;5;241;43m.\u001b[39;49m\u001b[43mone\u001b[49m \u001b[38;5;241m+\u001b[39m \u001b[38;5;28mself\u001b[39m\u001b[38;5;241m.\u001b[39mtwo\n\u001b[1;32m      7\u001b[0m     \u001b[38;5;66;03m#result = one + two => this cannot be used because \" one \" and \" two \" is not defined \u001b[39;00m\n\u001b[1;32m      8\u001b[0m     \u001b[38;5;28;01mreturn\u001b[39;00m result\n",
      "\u001b[0;31mAttributeError\u001b[0m: 'forCalculate' object has no attribute 'one'"
     ]
    }
   ],
   "source": [
    "cal = forCalculate()\n",
    "cal.addFor()"
   ]
  },
  {
   "cell_type": "markdown",
   "metadata": {},
   "source": [
    "So we need to initialize the values for the numbers. We use \" def __init__() \" for it. You can use it instead of ' def setNumber() ', because initialization solves everything."
   ]
  },
  {
   "cell_type": "code",
   "execution_count": 13,
   "metadata": {},
   "outputs": [
    {
     "name": "stdout",
     "output_type": "stream",
     "text": [
      "add:  5\n",
      "subtract:  -3\n",
      "multiply:  4\n",
      "divide:  0.25\n",
      "remainder:  1\n",
      "1\n",
      "4\n"
     ]
    }
   ],
   "source": [
    "class forCalculate():\n",
    "    def __init__(self, one, two): # new definition\n",
    "        self.one = one\n",
    "        self.two = two\n",
    "    def addFor(self):\n",
    "        result = self.one + self.two\n",
    "        return result\n",
    "    def subFor(self):\n",
    "        result = self.one - self.two\n",
    "        return result\n",
    "    def mulFor(self):\n",
    "        result = self.one * self.two\n",
    "        return result\n",
    "    def divFor(self):\n",
    "        result = self.one / self.two\n",
    "        return result\n",
    "    def remainFor(self):\n",
    "        result = self.one % self.two\n",
    "        return result\n",
    "\n",
    "cal = forCalculate(1, 4) # this has been changed;inside has a value\n",
    "print(\"add: \", cal.addFor())\n",
    "print(\"subtract: \", cal.subFor())\n",
    "print(\"multiply: \", cal.mulFor())\n",
    "print(\"divide: \", cal.divFor())\n",
    "print(\"remainder: \", cal.remainFor())\n",
    "print(cal.one)\n",
    "print(cal.two)"
   ]
  },
  {
   "cell_type": "markdown",
   "metadata": {},
   "source": [
    "Inheritance can use it on Python. I first defined the class named ' forCalculate() '. I can define an another class, to show some example how to use inheritance. We use this when we don't want to change other functions at the previous class."
   ]
  },
  {
   "cell_type": "code",
   "execution_count": 20,
   "metadata": {},
   "outputs": [
    {
     "name": "stdout",
     "output_type": "stream",
     "text": [
      "power:  <bound method ShowCalculate.powFor of <__main__.ShowCalculate object at 0x110d6c250>>\n"
     ]
    }
   ],
   "source": [
    "class ShowCalculate(forCalculate):\n",
    "    def powFor(self):\n",
    "        result = self.one ** self.two\n",
    "        return result\n",
    "        \n",
    "cal = ShowCalculate(1, 4)\n",
    "print(\"power: \", cal.powFor)"
   ]
  }
 ],
 "metadata": {
  "interpreter": {
   "hash": "31f2aee4e71d21fbe5cf8b01ff0e069b9275f58929596ceb00d14d90e3e16cd6"
  },
  "kernelspec": {
   "display_name": "Python 3.8.9 64-bit",
   "language": "python",
   "name": "python3"
  },
  "language_info": {
   "codemirror_mode": {
    "name": "ipython",
    "version": 3
   },
   "file_extension": ".py",
   "mimetype": "text/x-python",
   "name": "python",
   "nbconvert_exporter": "python",
   "pygments_lexer": "ipython3",
   "version": "3.8.9"
  },
  "orig_nbformat": 4
 },
 "nbformat": 4,
 "nbformat_minor": 2
}
